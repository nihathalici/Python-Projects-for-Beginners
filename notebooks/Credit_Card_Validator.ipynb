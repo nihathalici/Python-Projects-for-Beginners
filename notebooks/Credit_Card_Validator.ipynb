{
  "nbformat": 4,
  "nbformat_minor": 0,
  "metadata": {
    "colab": {
      "name": "Untitled1.ipynb",
      "provenance": [],
      "collapsed_sections": [],
      "toc_visible": true
    },
    "kernelspec": {
      "name": "python3",
      "display_name": "Python 3"
    }
  },
  "cells": [
    {
      "cell_type": "code",
      "metadata": {
        "id": "obqMvqvQCkVY"
      },
      "source": [
        "# this function adds every digit of the card number to a list and,\n",
        "# applying Luhn Algorithm to check whether resulting sum is divisible by ten\n",
        "def check_validity(num):\n",
        "    validlist = []\n",
        "    for i in num:\n",
        "        validlist.append(int(i))\n",
        "    for i in range(0, len(num), 2):\n",
        "        validlist[i] = validlist[i] * 2\n",
        "        if validlist[i] >= 10:\n",
        "            validlist[i] = (validlist[i] // 10 + validlist[i] % 10)\n",
        "\n",
        "    if sum(validlist) % 10 == 0:\n",
        "        print(\"This is a VALID CARD!\")\n",
        "    else:\n",
        "        print('INVALID CARD NUMBER')\n",
        "\n",
        "# accepts card number as a string\n",
        "def cardnumber():\n",
        "    n = ''\n",
        "    while True:\n",
        "        try:\n",
        "            n = input('Enter your 16 digit credit card number : ')\n",
        "            if not (len(n) == 16) or not type(int(n) == int):\n",
        "                raise Exception\n",
        "\n",
        "        except Exception:\n",
        "            print('That is not a valid credit card number. \\nMake sure you are entering digits not characters and all the 16 digits.')\n",
        "            continue\n",
        "        else:\n",
        "            break\n",
        "    return n\n",
        "\n",
        "def goagain():\n",
        "    return input('Do you want to check again? (Yes/No) : ').lower()[0] == 'y'\n",
        "\n",
        "\n",
        "def main():\n",
        "\n",
        "    while True:\n",
        "\n",
        "        num = cardnumber()\n",
        "        check_validity(num)\n",
        "\n",
        "        if not goagain():\n",
        "            break\n",
        "\n",
        "if __name__ == '__main__':\n",
        "    main()\n"
      ],
      "execution_count": null,
      "outputs": []
    }
  ]
}